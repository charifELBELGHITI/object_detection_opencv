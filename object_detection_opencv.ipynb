{
 "cells": [
  {
   "cell_type": "code",
   "execution_count": 6,
   "id": "6e0c4084",
   "metadata": {},
   "outputs": [
    {
     "name": "stdout",
     "output_type": "stream",
     "text": [
      "Nombre de classes chargées: 80\n"
     ]
    }
   ],
   "source": [
    "import cv2\n",
    "\n",
    "thres = 0.45  # Seuil pour détecter l'objet\n",
    "\n",
    "# Initialisation de la capture vidéo\n",
    "cap = cv2.VideoCapture('4K Road traffic video for object detection and tracking - free download now!.mp4')\n",
    "cap.set(3, 1280)\n",
    "cap.set(4, 720)\n",
    "cap.set(10, 70)\n",
    "\n",
    "# Chargement des noms de classe\n",
    "classNames = []\n",
    "classFile = \"coco.names\"  # Mettez à jour le chemin si nécessaire\n",
    "with open(classFile, \"rt\") as f:\n",
    "    classNames = f.read().rstrip(\"\\n\").split(\"\\n\")\n",
    "\n",
    "print(\"Nombre de classes chargées:\", len(classNames))\n",
    "\n",
    "# Chemins de la configuration et des poids du modèle\n",
    "configPath = \"ssd_mobilenet_v3_large_coco_2020_01_14.pbtxt\"  # Mettez à jour le chemin si nécessaire\n",
    "weightsPath = \"frozen_inference_graph.pb\"  # Mettez à jour le chemin si nécessaire\n",
    "\n",
    "# Initialisation du modèle de détection\n",
    "net = cv2.dnn_DetectionModel(weightsPath, configPath)\n",
    "net.setInputSize(320, 320)\n",
    "net.setInputScale(1.0 / 127.5)\n",
    "net.setInputMean((127.5, 127.5, 127.5))\n",
    "net.setInputSwapRB(True)\n",
    "\n",
    "# Boucle de détection dans la vidéo\n",
    "while True:\n",
    "    success, img = cap.read()\n",
    "    if not success:\n",
    "        break  # Sortie de la boucle si la lecture de la vidéo échoue\n",
    "\n",
    "    classIds, confs, bbox = net.detect(img, confThreshold=thres)\n",
    "\n",
    "    if len(classIds) != 0:\n",
    "        for classId, confidence, box in zip(classIds.flatten(), confs.flatten(), bbox):\n",
    "            if classId > 0 and classId <= len(classNames):\n",
    "                cv2.rectangle(img, box, color=(0, 255, 0), thickness=2)\n",
    "                cv2.putText(img, f'{classNames[classId - 1].upper()} {round(confidence * 100, 2)}%',\n",
    "                            (box[0] + 10, box[1] + 30), cv2.FONT_HERSHEY_COMPLEX, 1, (0, 255, 0), 2)\n",
    "            else:\n",
    "                print(\"ClassId invalide détecté:\", classId)\n",
    "\n",
    "    cv2.imshow(\"Output\", img)\n",
    "    if cv2.waitKey(1) & 0xFF == ord('q'):\n",
    "        break\n",
    "\n",
    "# Libération des ressources et fermeture des fenêtres\n",
    "cap.release()\n",
    "cv2.destroyAllWindows()\n"
   ]
  },
  {
   "cell_type": "code",
   "execution_count": null,
   "id": "122dee8c",
   "metadata": {},
   "outputs": [],
   "source": []
  }
 ],
 "metadata": {
  "kernelspec": {
   "display_name": "Python 3 (ipykernel)",
   "language": "python",
   "name": "python3"
  },
  "language_info": {
   "codemirror_mode": {
    "name": "ipython",
    "version": 3
   },
   "file_extension": ".py",
   "mimetype": "text/x-python",
   "name": "python",
   "nbconvert_exporter": "python",
   "pygments_lexer": "ipython3",
   "version": "3.9.13"
  }
 },
 "nbformat": 4,
 "nbformat_minor": 5
}
